{
  "cells": [
    {
      "cell_type": "markdown",
      "metadata": {
        "id": "view-in-github",
        "colab_type": "text"
      },
      "source": [
        "<a href=\"https://colab.research.google.com/github/ashiq24/UNO/blob/main/UNO_Tutorial.ipynb\" target=\"_parent\"><img src=\"https://colab.research.google.com/assets/colab-badge.svg\" alt=\"Open In Colab\"/></a>"
      ]
    },
    {
      "cell_type": "markdown",
      "metadata": {
        "id": "6QbHWRs1Pa90"
      },
      "source": [
        "# U-shaped Neural operator\n",
        "This tutorial gives a step by step break down on how to use the U shaped Neural Operators (UNO), which is introduced in the paper with the same title U-NO: [U-shaped Neural Operators](https://arxiv.org/pdf/2204.11127.pdf). Compared to other methods, U-No shows superier perfromance in the PDE bethmarks.\n",
        "\n",
        "First we need to download few files from the github repository of UNO. The file **integral_operators.py** contrains non-linear integral operators, the building block of U-NO."
      ]
    },
    {
      "cell_type": "code",
      "execution_count": 1,
      "metadata": {
        "colab": {
          "base_uri": "https://localhost:8080/"
        },
        "id": "DPjNx0AvASYk",
        "outputId": "3d0bea45-53a1-44bd-9732-54b5d04e97e9"
      },
      "outputs": [
        {
          "output_type": "stream",
          "name": "stdout",
          "text": [
            "--2022-06-06 04:41:14--  https://raw.githubusercontent.com/ashiq24/UNO/main/Adam.py\n",
            "Resolving raw.githubusercontent.com (raw.githubusercontent.com)... 185.199.108.133, 185.199.109.133, 185.199.110.133, ...\n",
            "Connecting to raw.githubusercontent.com (raw.githubusercontent.com)|185.199.108.133|:443... connected.\n",
            "HTTP request sent, awaiting response... 200 OK\n",
            "Length: 6562 (6.4K) [text/plain]\n",
            "Saving to: ‘Adam.py’\n",
            "\n",
            "\rAdam.py               0%[                    ]       0  --.-KB/s               \rAdam.py             100%[===================>]   6.41K  --.-KB/s    in 0s      \n",
            "\n",
            "2022-06-06 04:41:14 (77.4 MB/s) - ‘Adam.py’ saved [6562/6562]\n",
            "\n",
            "--2022-06-06 04:41:14--  https://raw.githubusercontent.com/ashiq24/UNO/main/utilities3.py\n",
            "Resolving raw.githubusercontent.com (raw.githubusercontent.com)... 185.199.108.133, 185.199.109.133, 185.199.110.133, ...\n",
            "Connecting to raw.githubusercontent.com (raw.githubusercontent.com)|185.199.108.133|:443... connected.\n",
            "HTTP request sent, awaiting response... 200 OK\n",
            "Length: 2957 (2.9K) [text/plain]\n",
            "Saving to: ‘utilities3.py’\n",
            "\n",
            "utilities3.py       100%[===================>]   2.89K  --.-KB/s    in 0s      \n",
            "\n",
            "2022-06-06 04:41:14 (38.8 MB/s) - ‘utilities3.py’ saved [2957/2957]\n",
            "\n",
            "--2022-06-06 04:41:14--  https://raw.githubusercontent.com/ashiq24/UNO/main/integral_operators.py\n",
            "Resolving raw.githubusercontent.com (raw.githubusercontent.com)... 185.199.108.133, 185.199.109.133, 185.199.110.133, ...\n",
            "Connecting to raw.githubusercontent.com (raw.githubusercontent.com)|185.199.108.133|:443... connected.\n",
            "HTTP request sent, awaiting response... 200 OK\n",
            "Length: 15146 (15K) [text/plain]\n",
            "Saving to: ‘integral_operators.py’\n",
            "\n",
            "integral_operators. 100%[===================>]  14.79K  --.-KB/s    in 0s      \n",
            "\n",
            "2022-06-06 04:41:15 (86.9 MB/s) - ‘integral_operators.py’ saved [15146/15146]\n",
            "\n"
          ]
        }
      ],
      "source": [
        "!wget https://raw.githubusercontent.com/ashiq24/UNO/main/Adam.py\n",
        "!wget https://raw.githubusercontent.com/ashiq24/UNO/main/utilities3.py\n",
        "!wget https://raw.githubusercontent.com/ashiq24/UNO/main/integral_operators.py"
      ]
    },
    {
      "cell_type": "code",
      "execution_count": 2,
      "metadata": {
        "id": "JvFZ5sJEBVef"
      },
      "outputs": [],
      "source": [
        "import numpy as np\n",
        "import torch\n",
        "import torch.nn as nn\n",
        "import torch.nn.functional as F\n",
        "from torch.nn.parameter import Parameter\n",
        "import random\n",
        "import matplotlib.pyplot as plt\n",
        "import operator\n",
        "from functools import reduce\n",
        "from functools import partial\n",
        "from timeit import default_timer\n",
        "from utilities3 import *\n",
        "from Adam import Adam\n",
        "from torchsummary import summary\n",
        "import gc\n",
        "import math\n",
        "from integral_operators import * "
      ]
    },
    {
      "cell_type": "markdown",
      "metadata": {
        "id": "YZgBXqiNXxUm"
      },
      "source": [
        "## Example\n",
        "Let's we have a function $f(x,y) = [x^2+y, x+y^2]$ where $(x,y) \\in (0,1)^2$. So, it's domain is $2D$ and co-domain dimension is also 2. \n",
        "\n",
        "We will apply non-linear operator $G$ (linear integral operators\n",
        "followed by point-wise non-linearity) on the function $f$ such that $g = G(f)$.\n",
        "\n",
        "Where, $g$ is defined on domain $(0.0,0.5)^2$ with 4 dimentional co-domain i.e.,\n",
        "\n",
        " $g: (0.0.5)^2 \\to R^4$\n",
        "\n",
        "For this example, we will use a non-linear operator perfroming $2D$ integral operation. It is implemented as the class **OperatorBlock_2D** in **integral_operators.py** module. It uses **SpectralConv2d_Uno** for kernel integration and **pointwise_op_2D** for point-wise operator. Details can be found in the paper.\n",
        "\n",
        "##Discretization\n",
        "To work with the input function $f$ anlytically, we need to discretize its' domian $(0,1)^2$. We will discretize the domain with a grid fo size $100 \\times 100$ (sampling rate 0.01).\n",
        "\n",
        "Following the same sampling rate, the output function with domain $(0.0,0.5)^2$ will have a grid size of $50 \\times 50$\n",
        "\n",
        "##Domain Contraction and Expansion\n",
        "\n",
        "Note that by using operator $G$ we are contracting the domian of input function $f$ by a factor of $0.5$  ($(0,1)^2$ to $(0.0,0.5)^2$). This contraction factor can also be expressed a the ratio of grid size along each dimension of the domain the input and functions (100 to 50).\n",
        "\n",
        "\n",
        "\n",
        "Now let's get to the code."
      ]
    },
    {
      "cell_type": "markdown",
      "metadata": {
        "id": "z0AtVEeFfGqh"
      },
      "source": [
        "### Create the input function"
      ]
    },
    {
      "cell_type": "code",
      "execution_count": null,
      "metadata": {
        "id": "Zl6Ej18ACuV9"
      },
      "outputs": [],
      "source": [
        "def func(x, y):\n",
        "    return [x**2+y,x+y**2]\n",
        "\n",
        "xaxis = np.linspace(0, 1, 100)\n",
        "yaxis = np.linspace(0, 1, 100)\n",
        "function_f = func(xaxis[:,None], yaxis[None,:])"
      ]
    },
    {
      "cell_type": "code",
      "execution_count": null,
      "metadata": {
        "colab": {
          "base_uri": "https://localhost:8080/"
        },
        "id": "SB5wupgkgTuJ",
        "outputId": "1bd34325-efa3-4438-e2b9-27ae016f1dda"
      },
      "outputs": [
        {
          "output_type": "stream",
          "name": "stderr",
          "text": [
            "/usr/local/lib/python3.7/dist-packages/ipykernel_launcher.py:1: UserWarning: Creating a tensor from a list of numpy.ndarrays is extremely slow. Please consider converting the list to a single numpy.ndarray with numpy.array() before converting to a tensor. (Triggered internally at  ../torch/csrc/utils/tensor_new.cpp:210.)\n",
            "  \"\"\"Entry point for launching an IPython kernel.\n"
          ]
        }
      ],
      "source": [
        "f  = torch.tensor(function_f)"
      ]
    },
    {
      "cell_type": "code",
      "execution_count": null,
      "metadata": {
        "colab": {
          "base_uri": "https://localhost:8080/"
        },
        "id": "5WMsYeu5gVRX",
        "outputId": "36b56e74-e8d1-4c24-f7d6-4abef9e48bd7"
      },
      "outputs": [
        {
          "output_type": "execute_result",
          "data": {
            "text/plain": [
              "torch.Size([2, 100, 100])"
            ]
          },
          "metadata": {},
          "execution_count": 5
        }
      ],
      "source": [
        "f.shape # note that co-domain dimension is at the begining."
      ]
    },
    {
      "cell_type": "markdown",
      "metadata": {
        "id": "4oR7X_ORi-H-"
      },
      "source": [
        "Now we will initialize our operator $G$. We need to pass several parameters to the class OperatorBlock_2d.\n",
        "\n",
        "###**OperatorBlock_2d(in_codim, out_codim,dim1, dim2,modes1,modes2, Normalize = False,Non_Lin = True)**\n",
        "        \n",
        "1.   in_codim = co-domain dimension of input function (for $f$ this is 2)\n",
        "2.   out_codim = co-domain dimension of output function (for $g$ this is 4)\n",
        "3.   dim1 = Default output grid size along $x$ axis of the output function $g$. Which is 50 in out case.\n",
        "4.   dim2 = Default output grid size along $y$  axis of the output function $g$. This is also 50.\n",
        "5. modes1 and modes2 = Number of fourier model the operator will use to perform the kernel integration (we set both of them as 10). *As we are using FFT to approximate the transfrom, we must satisfy that modes1 < min(dim1/2, input_dim1/2). input_dim1 is grid size along $x$ axis of the input function. The same condition is also applied for other modes.*\n",
        "6. Normalize = If set to True performs InstanceNorm2d, by default it is set to False\n",
        "7. Non_Lin = If True, applies point wise nonlinearity (Gelu). We can set it to False if we need liniear operator.\n",
        "\n",
        "\n",
        "#### Note:\n",
        "Neural operator is discretization invarient. That means, the same operator can handle the function $f$ with discretization of grid size (100x100) and also with iscretization of grid size (1000x1000). The discretization of output function $g$ will also be changed in the same way.\n",
        "\n",
        "But often time we train the model with fixed discretization. The option for default output grid size is kept considering the ease in coding duirng traing the neural operators.\n",
        "\n",
        "\n",
        "\n",
        "\n"
      ]
    },
    {
      "cell_type": "code",
      "execution_count": null,
      "metadata": {
        "colab": {
          "base_uri": "https://localhost:8080/"
        },
        "id": "ZPOeAFHggc3Y",
        "outputId": "36bd1970-e027-4724-ae4d-b4f17c86cce4"
      },
      "outputs": [
        {
          "output_type": "stream",
          "name": "stdout",
          "text": [
            "torch.Size([1, 4, 50, 50])\n"
          ]
        }
      ],
      "source": [
        "# intizalizing the oprator\n",
        "G = OperatorBlock_2D(2,4,50,50,10,10)\n",
        "f = f.reshape(1,2,100,100) #adding a batch dimension\n",
        "g = G(f.float())\n",
        "print(g.shape)"
      ]
    },
    {
      "cell_type": "markdown",
      "metadata": {
        "id": "lG9AKV_vq8WI"
      },
      "source": [
        "The forward function of the class **OperatorBlock_2D** also has two other parameter fixing the grid size of the output function.\n",
        "\n",
        "In other words, we can also calculate $g$ in the following way."
      ]
    },
    {
      "cell_type": "code",
      "execution_count": null,
      "metadata": {
        "colab": {
          "base_uri": "https://localhost:8080/"
        },
        "id": "DGz3mk-1qwTd",
        "outputId": "a2e23f6c-0569-4648-b273-e26e0e954cbb"
      },
      "outputs": [
        {
          "output_type": "stream",
          "name": "stdout",
          "text": [
            "torch.Size([1, 4, 50, 50])\n"
          ]
        }
      ],
      "source": [
        "g = G(f.float(), dim1 = 50, dim2 = 50)\n",
        "print(g.shape)"
      ]
    },
    {
      "cell_type": "markdown",
      "metadata": {
        "id": "5sLspEnB73-I"
      },
      "source": [
        "### Breaking down the Operator Block.\n",
        "\n",
        "**OperatorBlock_2D** uses **SpectralConv2d_Uno** and **pointwise_op_2D** for performing the non-linear integral operation.\n",
        "\n",
        "The operator action in the pervious cell can be broken down as the following\n",
        "\n"
      ]
    },
    {
      "cell_type": "code",
      "execution_count": null,
      "metadata": {
        "colab": {
          "base_uri": "https://localhost:8080/"
        },
        "id": "mqxk0azOoo8y",
        "outputId": "e51d235a-b74a-4f0f-818b-034dff428423"
      },
      "outputs": [
        {
          "output_type": "stream",
          "name": "stdout",
          "text": [
            "torch.Size([1, 4, 50, 50])\n"
          ]
        }
      ],
      "source": [
        "I = SpectralConv2d_Uno(2,4,50,50,10,10) # Initializing the kernel integral operator\n",
        "p = pointwise_op_2D(2,4,50,50) #Initializing the pointwise operator\n",
        "\n",
        "g = F.gelu(I(f.float())+ p(f.float()))\n",
        "print(g.shape)"
      ]
    },
    {
      "cell_type": "markdown",
      "metadata": {
        "id": "YmX7VzmwsNl4"
      },
      "source": [
        "### Handling finer discretization\n",
        "Now, assume that we recive the input function with finer discreetization over the input domain (grid size 1000x 1000).\n",
        "\n",
        "Maintaining the contraction ratio, the grid size of the output function $g$ will be $500 \\times 500$. Now, we can use the same operator $G$ to get the output function $g$ with finer discretization."
      ]
    },
    {
      "cell_type": "code",
      "execution_count": null,
      "metadata": {
        "colab": {
          "base_uri": "https://localhost:8080/"
        },
        "id": "6SOrX3hxsNDf",
        "outputId": "e6aa47f5-e054-4b7a-e3f8-94bb387e632c"
      },
      "outputs": [
        {
          "output_type": "stream",
          "name": "stdout",
          "text": [
            "torch.Size([2, 1000, 1000])\n"
          ]
        }
      ],
      "source": [
        "#input function with finer discretization.\n",
        "xaxis = np.linspace(0, 1, 1000)\n",
        "yaxis = np.linspace(0, 1, 1000)\n",
        "function_f_finer = func(xaxis[:,None], yaxis[None,:])\n",
        "f_finer  = torch.tensor(function_f_finer)\n",
        "print(f_finer.shape)"
      ]
    },
    {
      "cell_type": "markdown",
      "metadata": {
        "id": "_bw4wGsfvzms"
      },
      "source": [
        " We can use the operator **G**, previously intitialized, to get the output function $g$. \n",
        "\n",
        "Note, as the discretiztion of **g** is not the same as the default grid size defined during the initializtion of **G**, we need specify it in the function call ***G()***."
      ]
    },
    {
      "cell_type": "code",
      "execution_count": null,
      "metadata": {
        "colab": {
          "base_uri": "https://localhost:8080/"
        },
        "id": "zUQum7d0vwJ0",
        "outputId": "6daf442c-84ae-47be-c6c7-a953764ef9b9"
      },
      "outputs": [
        {
          "output_type": "stream",
          "name": "stdout",
          "text": [
            "torch.Size([1, 4, 500, 500])\n"
          ]
        }
      ],
      "source": [
        "f_finer = f_finer.reshape(1,2,1000,1000)\n",
        "g_finer = G(f_finer.float(), dim1 = 500, dim2 = 500)\n",
        "print(g_finer.shape)"
      ]
    },
    {
      "cell_type": "markdown",
      "metadata": {
        "id": "v1VB9jbPKqKE"
      },
      "source": [
        "## Creating and Training a U-NO\n",
        "\n",
        "There are three main components in U-NO\n",
        "\n",
        "1. Lifting operator P (Lift the input function to higher dimentional Co-domain)\n",
        "2. Stacked non-linear integral operator G\n",
        "3. Projection operator Q (Project the function to lower dimensional Co-domain) \n",
        "\n",
        "####Things to note:\n",
        "1. The co-domain dimension should be kept at the end. So, the function $f$ used above as an example will have the shape (100,100,2) after discretization with grid size 100x100. \n",
        "2. Following the paper we will also concatenate position (x & Y) along the co-domain dimesion.\n",
        "3. If the function is non-periodic, we extend the domain by zero padding.\n",
        "\n",
        "In the following we will create a UNO 2D model. The well will train this neural operator to learn randomly generated function sampled from Gaussian Random Field."
      ]
    },
    {
      "cell_type": "code",
      "execution_count": 3,
      "metadata": {
        "id": "CejApP4CKvca"
      },
      "outputs": [],
      "source": [
        "class UNO_demo(nn.Module):\n",
        "    def __init__(self, in_width, width,pad = 8):\n",
        "        super(UNO_demo, self).__init__()\n",
        "   \n",
        "        self.in_width = in_width # input function co-domain dimention after concatenating (x,y)\n",
        "        self.width = width # lifting dimension\n",
        "        \n",
        "        self.padding = pad  # passing amount\n",
        "\n",
        "        self.fc = nn.Linear(self.in_width, self.width//2)\n",
        "\n",
        "        self.fc0 = nn.Linear(self.width//2, self.width) \n",
        "\n",
        "        self.G0 = OperatorBlock_2D(self.width, 2*self.width,32, 32, 14, 14)\n",
        "\n",
        "        self.G1 = OperatorBlock_2D(2*self.width, 4*self.width, 16, 16, 6,6)\n",
        "\n",
        "        self.G2 = OperatorBlock_2D(4*self.width, 8*self.width, 8, 8,3,3)\n",
        "        \n",
        "        self.G3 = OperatorBlock_2D(8*self.width, 16*self.width, 4, 4,2,2)\n",
        "        \n",
        "        self.G4 = OperatorBlock_2D(16*self.width, 16*self.width, 4, 4,2,2)\n",
        "        \n",
        "        self.G5 = OperatorBlock_2D(16*self.width, 16*self.width, 4, 4,2,2)\n",
        "        \n",
        "        self.G6 = OperatorBlock_2D(16*self.width, 16*self.width, 4, 4,2,2)\n",
        "        \n",
        "        self.G7 = OperatorBlock_2D(16*self.width, 16*self.width, 4, 4,2,2)\n",
        "        \n",
        "        self.G8 = OperatorBlock_2D(16*self.width, 16*self.width, 4, 4,2,2)\n",
        "        \n",
        "        self.G9 = OperatorBlock_2D(16*self.width, 8*self.width, 8, 8,2,2) # note that for this layer the number of modes for the integral operator  \n",
        "                                                                          # must be <=3. Because input function to this layer is discretized with a \n",
        "                                                                          # grid size of (4x4). And as we are using FFT, modes1 and modes2 parameter \n",
        "                                                                          # for this layer should be <=3. (For details please look in pytorch FFT module)\n",
        "                                                                          # Similar constrain is also applicable for the following layers.\n",
        "        \n",
        "        self.G10 = OperatorBlock_2D(16*self.width, 4*self.width, 16, 16,3,3)\n",
        "\n",
        "        self.G11 = OperatorBlock_2D(8*self.width, 2*self.width, 32, 32,6,6)\n",
        "\n",
        "        self.G12 = OperatorBlock_2D(4*self.width, self.width, 64, 64,14,14) # will be reshaped\n",
        "\n",
        "        self.fc1 = nn.Linear(1*self.width, 2*self.width)\n",
        "        self.fc2 = nn.Linear(2*self.width, 1)\n",
        "\n",
        "    def forward(self, x):\n",
        "\n",
        "        grid = self.get_grid(x.shape, x.device)\n",
        "        x = torch.cat((x, grid), dim=-1) # concatenating position (x,y) along the co-domain\n",
        "\n",
        "        x_fc = self.fc(x)\n",
        "        x_fc = F.gelu(x_fc)\n",
        "\n",
        "        x_fc0 = self.fc0(x_fc)\n",
        "        x_fc0 = F.gelu(x_fc0)\n",
        "        \n",
        "        x_fc0 = x_fc0.permute(0, 3, 1, 2)\n",
        "        x_fc0 = F.pad(x_fc0, [0,self.padding, 0,self.padding])\n",
        "        \n",
        "        D1,D2 = x_fc0.shape[-2],x_fc0.shape[-1]\n",
        "\n",
        "        x_c0 = self.G0(x_fc0,D1//2,D2//2)\n",
        "\n",
        "        x_c1 = self.G1(x_c0,D1//4,D2//4)\n",
        "\n",
        "        x_c2 = self.G2(x_c1,D1//8,D2//8)\n",
        "  \n",
        "        x_c3 = self.G3(x_c2,D1//16,D2//16)\n",
        "        \n",
        "        x_c4 = self.G4(x_c3,D1//16,D2//16)\n",
        " \n",
        "        x_c5 = self.G5(x_c4,D1//16,D2//16)\n",
        "\n",
        "        x_c6 = self.G6(x_c5,D1//16,D2//16)\n",
        "        \n",
        "        x_c7 = self.G7(x_c6,D1//16,D2//16)\n",
        "        \n",
        "        x_c8 = self.G8(x_c7,D1//16,D2//16)\n",
        " \n",
        "        x_c9 = self.G9(x_c8,D1//8,D2//8)\n",
        "        x_c9 = torch.cat([x_c9, x_c2], dim=1) \n",
        "        \n",
        "        x_c10 = self.G10(x_c9 ,D1//4,D2//4)\n",
        "        x_c10 = torch.cat([x_c10, x_c1], dim=1)\n",
        "\n",
        "        x_c11 = self.G11(x_c10 ,D1//2,D2//2)\n",
        "        x_c11 = torch.cat([x_c11, x_c0], dim=1)\n",
        "\n",
        "        x_c12 = self.G12(x_c11,D1,D2)\n",
        "        if self.padding!=0:\n",
        "            x_c12 = x_c12[..., :-self.padding, :-self.padding]\n",
        "\n",
        "\n",
        "        x_c12 = x_c12.permute(0, 2, 3, 1)\n",
        "\n",
        "        x_fc1 = self.fc1(x_c12)\n",
        "        x_fc1 = F.gelu(x_fc1)\n",
        "        x_out = self.fc2(x_fc1)\n",
        "        \n",
        "        return x_out\n",
        "    \n",
        "    def get_grid(self, shape, device):\n",
        "        batchsize, size_x, size_y = shape[0], shape[1], shape[2]\n",
        "        gridx = torch.tensor(np.linspace(0, 1, size_x), dtype=torch.float)\n",
        "        gridx = gridx.reshape(1, size_x, 1, 1).repeat([batchsize, 1, size_y, 1])\n",
        "        gridy = torch.tensor(np.linspace(0, 1, size_y), dtype=torch.float)\n",
        "        gridy = gridy.reshape(1, 1, size_y, 1).repeat([batchsize, size_x, 1, 1])\n",
        "        return torch.cat((gridx, gridy), dim=-1).to(device)"
      ]
    },
    {
      "cell_type": "code",
      "source": [
        "#@title Class for Gaussian Random Field \"GaussianRF\"\n",
        "import math\n",
        "class GaussianRF(object):\n",
        "    def __init__(self, dim, size, alpha=2, tau=3, sigma=None, boundary=\"periodic\", device=None):\n",
        "        self.dim = dim\n",
        "        self.device = device\n",
        "        if sigma is None:\n",
        "            sigma = tau**(0.5*(2*alpha - self.dim))\n",
        "        k_max = size//2\n",
        "        if dim == 1:\n",
        "            k = torch.cat((torch.arange(start=0, end=k_max, step=1, device=device), \\\n",
        "                           torch.arange(start=-k_max, end=0, step=1, device=device)), 0)\n",
        "            self.sqrt_eig = size*math.sqrt(2.0)*sigma*((4*(math.pi**2)*(k**2) + tau**2)**(-alpha/2.0))\n",
        "            self.sqrt_eig[0] = 0.0\n",
        "        elif dim == 2:\n",
        "            wavenumers = torch.cat((torch.arange(start=0, end=k_max, step=1, device=device), \\\n",
        "                                    torch.arange(start=-k_max, end=0, step=1, device=device)), 0).repeat(size,1)\n",
        "            k_x = wavenumers.transpose(0,1)\n",
        "            k_y = wavenumers\n",
        "            self.sqrt_eig = (size**2)*math.sqrt(2.0)*sigma*((4*(math.pi**2)*(k_x**2 + k_y**2) + tau**2)**(-alpha/2.0))\n",
        "            self.sqrt_eig[0,0] = 0.0\n",
        "        elif dim == 3:\n",
        "            wavenumers = torch.cat((torch.arange(start=0, end=k_max, step=1, device=device), \\\n",
        "                                    torch.arange(start=-k_max, end=0, step=1, device=device)), 0).repeat(size,size,1)\n",
        "            k_x = wavenumers.transpose(1,2)\n",
        "            k_y = wavenumers\n",
        "            k_z = wavenumers.transpose(0,2)\n",
        "            self.sqrt_eig = (size**3)*math.sqrt(2.0)*sigma*((4*(math.pi**2)*(k_x**2 + k_y**2 + k_z**2) + tau**2)**(-alpha/2.0))\n",
        "            self.sqrt_eig[0,0,0] = 0.0\n",
        "        self.size = []\n",
        "        for j in range(self.dim):\n",
        "            self.size.append(size)\n",
        "        self.size = tuple(self.size)\n",
        "    def sample(self, N, mul=1):\n",
        "        coeff = torch.randn(N, *self.size, 2, device=self.device)*mul\n",
        "        coeff[...,0] = self.sqrt_eig*coeff[...,0] #real\n",
        "        coeff[...,1] = self.sqrt_eig*coeff[...,1] #imag \n",
        "        \n",
        "        coeff_new = torch.complex(coeff[...,0],coeff[...,1])\n",
        "        #print(coeff_new.size())\n",
        "        u = torch.fft.ifft2(coeff_new, dim = (-2,-1), norm=None)\n",
        "        \n",
        "        u = u.real\n",
        "        \n",
        "        \n",
        "        return u"
      ],
      "metadata": {
        "cellView": "form",
        "id": "X53ZUSG0AL3e"
      },
      "execution_count": null,
      "outputs": []
    },
    {
      "cell_type": "markdown",
      "source": [
        "#### Simulated data generation from Gaussain Random field on grid size of 64x64"
      ],
      "metadata": {
        "id": "rMt5YHgraTcO"
      }
    },
    {
      "cell_type": "code",
      "source": [
        "import matplotlib.pyplot as plt"
      ],
      "metadata": {
        "id": "FHyOOKXiAv-p"
      },
      "execution_count": null,
      "outputs": []
    },
    {
      "cell_type": "code",
      "execution_count": null,
      "metadata": {
        "colab": {
          "base_uri": "https://localhost:8080/",
          "height": 571
        },
        "id": "IzJUXdxs5d3-",
        "outputId": "9c0a32da-25c3-420b-fb4d-0df90b019e85"
      },
      "outputs": [
        {
          "output_type": "stream",
          "name": "stdout",
          "text": [
            "torch.Size([1000, 64, 64, 1]) torch.Size([1000, 64, 64, 1])\n",
            "Input Function\n"
          ]
        },
        {
          "output_type": "display_data",
          "data": {
            "text/plain": [
              "<Figure size 432x288 with 1 Axes>"
            ],
            "image/png": "[encoded data removed]"
          },
          "metadata": {
            "needs_background": "light"
          }
        },
        {
          "output_type": "stream",
          "name": "stdout",
          "text": [
            "Output Function\n"
          ]
        },
        {
          "output_type": "display_data",
          "data": {
            "text/plain": [
              "<Figure size 432x288 with 1 Axes>"
            ],
            "image/png": "[encoded data removed]"
          },
          "metadata": {
            "needs_background": "light"
          }
        }
      ],
      "source": [
        "GF = GaussianRF(2,64)\n",
        "a = GF.sample(1000).reshape(1000,64,64,1)\n",
        "u = a*a-5*a\n",
        "print(a.shape,u.shape)\n",
        "print(\"Input Function\")\n",
        "plt.imshow(a[0].squeeze().numpy())\n",
        "plt.show()\n",
        "print(\"Output Function\")\n",
        "plt.imshow(u[0].squeeze().numpy())\n",
        "plt.show()"
      ]
    },
    {
      "cell_type": "markdown",
      "source": [
        "#### Training routine"
      ],
      "metadata": {
        "id": "s5OmRSagawKF"
      }
    },
    {
      "cell_type": "code",
      "execution_count": null,
      "metadata": {
        "id": "tkL4rRlx63DE"
      },
      "outputs": [],
      "source": [
        "train_loader = torch.utils.data.DataLoader((a,u), batch_size=64, shuffle=True)"
      ]
    },
    {
      "cell_type": "code",
      "execution_count": null,
      "metadata": {
        "id": "5WNHQ6lm39wD"
      },
      "outputs": [],
      "source": [
        "model = UNO_demo(3,16) # in_width = 3. As we will concatenate (x,y)\n",
        "model.cuda() # if available "
      ]
    },
    {
      "cell_type": "code",
      "execution_count": null,
      "metadata": {
        "colab": {
          "base_uri": "https://localhost:8080/"
        },
        "id": "OiS6ssJEyeiy",
        "outputId": "99e00efe-4ec6-49dd-dd92-f48ab4d5b376"
      },
      "outputs": [
        {
          "output_type": "stream",
          "name": "stdout",
          "text": [
            "Episode  0  Traing Error  1.0070552978515626\n",
            "Episode  1  Traing Error  1.063016357421875\n",
            "Episode  2  Traing Error  1.0045413818359374\n",
            "Episode  3  Traing Error  1.0035792846679688\n",
            "Episode  4  Traing Error  1.0026255493164062\n",
            "Episode  5  Traing Error  0.987656982421875\n",
            "Episode  6  Traing Error  0.931043212890625\n",
            "Episode  7  Traing Error  0.9873763427734376\n",
            "Episode  8  Traing Error  1.379629638671875\n",
            "Episode  9  Traing Error  0.8187943725585938\n",
            "Episode  10  Traing Error  0.98705810546875\n",
            "Episode  11  Traing Error  0.880211669921875\n",
            "Episode  12  Traing Error  0.8926182861328125\n",
            "Episode  13  Traing Error  0.8876287841796875\n",
            "Episode  14  Traing Error  0.9946322021484375\n",
            "Episode  15  Traing Error  0.8570494384765625\n",
            "Episode  16  Traing Error  0.9918557739257813\n",
            "Episode  17  Traing Error  0.811575927734375\n",
            "Episode  18  Traing Error  0.780495849609375\n",
            "Episode  19  Traing Error  0.738669189453125\n",
            "Episode  20  Traing Error  0.68935107421875\n",
            "Episode  21  Traing Error  0.6378853759765625\n",
            "Episode  22  Traing Error  0.5877900390625\n",
            "Episode  23  Traing Error  0.9620037841796875\n",
            "Episode  24  Traing Error  0.5257626953125\n",
            "Episode  25  Traing Error  0.9579004516601562\n",
            "Episode  26  Traing Error  0.45998455810546873\n",
            "Episode  27  Traing Error  0.955172607421875\n",
            "Episode  28  Traing Error  0.95211865234375\n",
            "Episode  29  Traing Error  0.946629150390625\n",
            "Episode  30  Traing Error  0.4648354187011719\n",
            "Episode  31  Traing Error  0.94344921875\n",
            "Episode  32  Traing Error  0.3903707275390625\n",
            "Episode  33  Traing Error  0.9471240844726563\n",
            "Episode  34  Traing Error  0.3564873962402344\n",
            "Episode  35  Traing Error  0.3397490234375\n",
            "Episode  36  Traing Error  0.3219883728027344\n",
            "Episode  37  Traing Error  0.942980712890625\n",
            "Episode  38  Traing Error  0.9402542724609375\n",
            "Episode  39  Traing Error  0.9364180908203125\n",
            "Episode  40  Traing Error  0.32370867919921875\n",
            "Episode  41  Traing Error  0.300092041015625\n",
            "Episode  42  Traing Error  0.2692431640625\n",
            "Episode  43  Traing Error  0.25754437255859375\n",
            "Episode  44  Traing Error  0.25905810546875\n",
            "Episode  45  Traing Error  0.9489871826171875\n",
            "Episode  46  Traing Error  0.256677001953125\n",
            "Episode  47  Traing Error  0.24591482543945312\n",
            "Episode  48  Traing Error  0.9476564331054688\n",
            "Episode  49  Traing Error  0.9455167846679687\n",
            "Episode  50  Traing Error  0.23095016479492186\n",
            "Episode  51  Traing Error  0.9425772705078125\n",
            "Episode  52  Traing Error  0.22876095581054687\n",
            "Episode  53  Traing Error  0.21759378051757813\n",
            "Episode  54  Traing Error  0.2048409423828125\n",
            "Episode  55  Traing Error  0.19962237548828124\n",
            "Episode  56  Traing Error  0.95039697265625\n",
            "Episode  57  Traing Error  0.9515711059570312\n",
            "Episode  58  Traing Error  0.20467411804199218\n",
            "Episode  59  Traing Error  0.95123828125\n",
            "Episode  60  Traing Error  0.9499288330078125\n",
            "Episode  61  Traing Error  0.94834423828125\n",
            "Episode  62  Traing Error  0.18748760986328125\n",
            "Episode  63  Traing Error  0.18437539672851563\n",
            "Episode  64  Traing Error  0.17730204772949218\n",
            "Episode  65  Traing Error  0.17094192504882813\n",
            "Episode  66  Traing Error  0.946332763671875\n",
            "Episode  67  Traing Error  0.1718058624267578\n",
            "Episode  68  Traing Error  0.9470494384765625\n",
            "Episode  69  Traing Error  0.9468148193359375\n",
            "Episode  70  Traing Error  0.9461435546875\n",
            "Episode  71  Traing Error  0.16630755615234374\n",
            "Episode  72  Traing Error  0.9443717041015625\n",
            "Episode  73  Traing Error  0.15785737609863282\n",
            "Episode  74  Traing Error  0.9431490478515625\n",
            "Episode  75  Traing Error  0.15329043579101562\n",
            "Episode  76  Traing Error  0.14985296630859374\n",
            "Episode  77  Traing Error  0.14647866821289063\n",
            "Episode  78  Traing Error  0.145020751953125\n",
            "Episode  79  Traing Error  0.14272332763671874\n",
            "Episode  80  Traing Error  0.9439554443359375\n",
            "Episode  81  Traing Error  0.942846923828125\n",
            "Episode  82  Traing Error  0.1425390167236328\n",
            "Episode  83  Traing Error  0.9413253784179687\n",
            "Episode  84  Traing Error  0.940813232421875\n",
            "Episode  85  Traing Error  0.14087623596191406\n",
            "Episode  86  Traing Error  0.13242594909667968\n",
            "Episode  87  Traing Error  0.12890678405761719\n",
            "Episode  88  Traing Error  0.9444400634765625\n",
            "Episode  89  Traing Error  0.13585401916503906\n",
            "Episode  90  Traing Error  0.943938232421875\n",
            "Episode  91  Traing Error  0.94228173828125\n",
            "Episode  92  Traing Error  0.12710218811035157\n",
            "Episode  93  Traing Error  0.9394432373046875\n",
            "Episode  94  Traing Error  0.9381070556640625\n",
            "Episode  95  Traing Error  0.93634130859375\n",
            "Episode  96  Traing Error  0.1446669921875\n",
            "Episode  97  Traing Error  0.9353526611328125\n",
            "Episode  98  Traing Error  0.124173828125\n",
            "Episode  99  Traing Error  0.9370180053710937\n",
            "Episode  100  Traing Error  0.9374685668945313\n",
            "Episode  101  Traing Error  0.9372713012695313\n",
            "Episode  102  Traing Error  0.1340977783203125\n",
            "Episode  103  Traing Error  0.934513427734375\n",
            "Episode  104  Traing Error  0.9321141967773438\n",
            "Episode  105  Traing Error  0.12519107818603514\n",
            "Episode  106  Traing Error  0.12711842346191407\n",
            "Episode  107  Traing Error  0.12375479888916016\n",
            "Episode  108  Traing Error  0.12073443603515625\n",
            "Episode  109  Traing Error  0.9303524169921875\n",
            "Episode  110  Traing Error  0.12482927703857422\n",
            "Episode  111  Traing Error  0.12129086303710937\n",
            "Episode  112  Traing Error  0.11646682739257813\n",
            "Episode  113  Traing Error  0.11788539123535156\n",
            "Episode  114  Traing Error  0.11839543914794921\n",
            "Episode  115  Traing Error  0.9305225830078125\n",
            "Episode  116  Traing Error  0.11190863037109375\n",
            "Episode  117  Traing Error  0.11105314636230469\n",
            "Episode  118  Traing Error  0.11065718078613282\n",
            "Episode  119  Traing Error  0.10942763519287109\n",
            "Episode  120  Traing Error  0.10818011474609375\n",
            "Episode  121  Traing Error  0.10740464782714844\n",
            "Episode  122  Traing Error  0.10615043640136719\n",
            "Episode  123  Traing Error  0.9365504150390624\n",
            "Episode  124  Traing Error  0.936947265625\n",
            "Episode  125  Traing Error  0.9363922729492188\n",
            "Episode  126  Traing Error  0.10386686706542969\n",
            "Episode  127  Traing Error  0.9339764404296875\n",
            "Episode  128  Traing Error  0.9322728271484375\n",
            "Episode  129  Traing Error  0.9299912109375\n",
            "Episode  130  Traing Error  0.11043564605712891\n",
            "Episode  131  Traing Error  0.9266741333007813\n",
            "Episode  132  Traing Error  0.10407070922851562\n",
            "Episode  133  Traing Error  0.924475341796875\n",
            "Episode  134  Traing Error  0.10611581420898437\n",
            "Episode  135  Traing Error  0.9204793090820312\n",
            "Episode  136  Traing Error  0.917148193359375\n",
            "Episode  137  Traing Error  0.10568672180175781\n",
            "Episode  138  Traing Error  0.10500635528564453\n",
            "Episode  139  Traing Error  0.906133056640625\n",
            "Episode  140  Traing Error  0.10281059265136719\n",
            "Episode  141  Traing Error  0.10203971862792968\n",
            "Episode  142  Traing Error  0.89225048828125\n",
            "Episode  143  Traing Error  0.88389599609375\n",
            "Episode  144  Traing Error  0.10295401763916015\n",
            "Episode  145  Traing Error  0.10061624145507812\n",
            "Episode  146  Traing Error  0.09990492248535156\n",
            "Episode  147  Traing Error  0.10096934509277344\n",
            "Episode  148  Traing Error  0.8249284057617188\n",
            "Episode  149  Traing Error  0.09902012634277343\n",
            "Episode  150  Traing Error  0.7869288330078125\n",
            "Episode  151  Traing Error  0.7685333251953125\n",
            "Episode  152  Traing Error  0.7529400634765625\n",
            "Episode  153  Traing Error  0.7406442260742188\n",
            "Episode  154  Traing Error  0.11802163696289063\n",
            "Episode  155  Traing Error  0.7341555786132813\n",
            "Episode  156  Traing Error  0.707988037109375\n",
            "Episode  157  Traing Error  0.6831015625\n",
            "Episode  158  Traing Error  0.11108235931396485\n",
            "Episode  159  Traing Error  0.674617431640625\n",
            "Episode  160  Traing Error  0.6526483764648437\n",
            "Episode  161  Traing Error  0.10323960876464844\n",
            "Episode  162  Traing Error  0.10208917999267578\n",
            "Episode  163  Traing Error  0.0988836669921875\n",
            "Episode  164  Traing Error  0.6510758666992188\n",
            "Episode  165  Traing Error  0.6289393310546875\n",
            "Episode  166  Traing Error  0.10656183624267578\n",
            "Episode  167  Traing Error  0.6376859741210937\n",
            "Episode  168  Traing Error  0.602333984375\n",
            "Episode  169  Traing Error  0.5898121337890625\n",
            "Episode  170  Traing Error  0.5924161987304688\n",
            "Episode  171  Traing Error  0.5857344970703126\n",
            "Episode  172  Traing Error  0.5658909301757813\n",
            "Episode  173  Traing Error  0.55618994140625\n",
            "Episode  174  Traing Error  0.1397071533203125\n",
            "Episode  175  Traing Error  0.5754921875\n",
            "Episode  176  Traing Error  0.543412841796875\n",
            "Episode  177  Traing Error  0.10619625854492187\n",
            "Episode  178  Traing Error  0.1048681640625\n",
            "Episode  179  Traing Error  0.5803854370117187\n",
            "Episode  180  Traing Error  0.5748424682617187\n",
            "Episode  181  Traing Error  0.5478106079101562\n",
            "Episode  182  Traing Error  0.5217254638671875\n",
            "Episode  183  Traing Error  0.10977721405029296\n",
            "Episode  184  Traing Error  0.5711596069335938\n",
            "Episode  185  Traing Error  0.10204591369628906\n",
            "Episode  186  Traing Error  0.5517720947265625\n",
            "Episode  187  Traing Error  0.5382135009765625\n",
            "Episode  188  Traing Error  0.510752685546875\n",
            "Episode  189  Traing Error  0.5216907958984375\n",
            "Episode  190  Traing Error  0.11104432678222656\n",
            "Episode  191  Traing Error  0.516590087890625\n",
            "Episode  192  Traing Error  0.10008974456787109\n",
            "Episode  193  Traing Error  0.5249930419921875\n",
            "Episode  194  Traing Error  0.09900191497802735\n",
            "Episode  195  Traing Error  0.09770943450927734\n",
            "Episode  196  Traing Error  0.4907082214355469\n",
            "Episode  197  Traing Error  0.09803968048095703\n",
            "Episode  198  Traing Error  0.49216845703125\n",
            "Episode  199  Traing Error  0.48188623046875\n",
            "Episode  200  Traing Error  0.09861548614501953\n",
            "Episode  201  Traing Error  0.09611033630371094\n",
            "Episode  202  Traing Error  0.4997449645996094\n",
            "Episode  203  Traing Error  0.09850621032714844\n",
            "Episode  204  Traing Error  0.09894010162353516\n",
            "Episode  205  Traing Error  0.09417514038085938\n",
            "Episode  206  Traing Error  0.4868441467285156\n",
            "Episode  207  Traing Error  0.09949708557128906\n",
            "Episode  208  Traing Error  0.10141902160644531\n",
            "Episode  209  Traing Error  0.4718865966796875\n",
            "Episode  210  Traing Error  0.46595877075195313\n",
            "Episode  211  Traing Error  0.09393581390380859\n",
            "Episode  212  Traing Error  0.0952516860961914\n",
            "Episode  213  Traing Error  0.09380872344970703\n",
            "Episode  214  Traing Error  0.4979559326171875\n",
            "Episode  215  Traing Error  0.460504638671875\n",
            "Episode  216  Traing Error  0.09838771057128906\n",
            "Episode  217  Traing Error  0.5176719360351563\n",
            "Episode  218  Traing Error  0.4992914428710937\n",
            "Episode  219  Traing Error  0.09216347503662109\n",
            "Episode  220  Traing Error  0.4683165283203125\n",
            "Episode  221  Traing Error  0.09607017517089844\n",
            "Episode  222  Traing Error  0.481661376953125\n",
            "Episode  223  Traing Error  0.09142521667480469\n",
            "Episode  224  Traing Error  0.09161744689941406\n",
            "Episode  225  Traing Error  0.4781442565917969\n",
            "Episode  226  Traing Error  0.09309500122070312\n",
            "Episode  227  Traing Error  0.47223214721679685\n",
            "Episode  228  Traing Error  0.09077597808837891\n",
            "Episode  229  Traing Error  0.0920797119140625\n",
            "Episode  230  Traing Error  0.0916908187866211\n",
            "Episode  231  Traing Error  0.4712431640625\n",
            "Episode  232  Traing Error  0.09058018493652344\n",
            "Episode  233  Traing Error  0.09169646453857422\n",
            "Episode  234  Traing Error  0.4412076416015625\n",
            "Episode  235  Traing Error  0.09018265533447266\n",
            "Episode  236  Traing Error  0.4444739990234375\n",
            "Episode  237  Traing Error  0.09081097412109375\n",
            "Episode  238  Traing Error  0.4364125061035156\n",
            "Episode  239  Traing Error  0.09163844299316407\n",
            "Episode  240  Traing Error  0.08999278259277343\n",
            "Episode  241  Traing Error  0.08949324798583984\n",
            "Episode  242  Traing Error  0.44110836791992186\n",
            "Episode  243  Traing Error  0.4310706787109375\n",
            "Episode  244  Traing Error  0.09653993225097657\n",
            "Episode  245  Traing Error  0.09303922271728515\n",
            "Episode  246  Traing Error  0.08951438903808594\n",
            "Episode  247  Traing Error  0.4667114562988281\n",
            "Episode  248  Traing Error  0.10212348175048828\n",
            "Episode  249  Traing Error  0.09926812744140626\n",
            "Episode  250  Traing Error  0.42528839111328126\n",
            "Episode  251  Traing Error  0.09034562683105468\n",
            "Episode  252  Traing Error  0.09205748748779297\n",
            "Episode  253  Traing Error  0.0916321258544922\n",
            "Episode  254  Traing Error  0.4430055541992188\n",
            "Episode  255  Traing Error  0.08934778594970703\n",
            "Episode  256  Traing Error  0.08992420959472656\n",
            "Episode  257  Traing Error  0.4187340393066406\n",
            "Episode  258  Traing Error  0.09118448638916016\n",
            "Episode  259  Traing Error  0.4214828186035156\n",
            "Episode  260  Traing Error  0.41549551391601564\n",
            "Episode  261  Traing Error  0.09088203430175781\n",
            "Episode  262  Traing Error  0.08993923950195312\n",
            "Episode  263  Traing Error  0.089111328125\n",
            "Episode  264  Traing Error  0.08943719482421875\n",
            "Episode  265  Traing Error  0.45362481689453127\n",
            "Episode  266  Traing Error  0.416205810546875\n",
            "Episode  267  Traing Error  0.09556687927246094\n",
            "Episode  268  Traing Error  0.4474010009765625\n",
            "Episode  269  Traing Error  0.09217970275878906\n",
            "Episode  270  Traing Error  0.45395233154296877\n",
            "Episode  271  Traing Error  0.4227225646972656\n",
            "Episode  272  Traing Error  0.40254571533203126\n",
            "Episode  273  Traing Error  0.42243133544921874\n",
            "Episode  274  Traing Error  0.1247079086303711\n",
            "Episode  275  Traing Error  0.42737298583984373\n",
            "Episode  276  Traing Error  0.4078097839355469\n",
            "Episode  277  Traing Error  0.402646240234375\n",
            "Episode  278  Traing Error  0.09166072082519532\n",
            "Episode  279  Traing Error  0.4225704040527344\n",
            "Episode  280  Traing Error  0.0912510757446289\n",
            "Episode  281  Traing Error  0.09128848266601562\n",
            "Episode  282  Traing Error  0.41976373291015623\n",
            "Episode  283  Traing Error  0.08920376586914062\n",
            "Episode  284  Traing Error  0.3931827392578125\n",
            "Episode  285  Traing Error  0.3850025634765625\n",
            "Episode  286  Traing Error  0.08919496154785156\n",
            "Episode  287  Traing Error  0.08903600311279297\n",
            "Episode  288  Traing Error  0.41245480346679686\n",
            "Episode  289  Traing Error  0.40755487060546874\n",
            "Episode  290  Traing Error  0.38830352783203126\n",
            "Episode  291  Traing Error  0.3733459167480469\n",
            "Episode  292  Traing Error  0.0916009521484375\n",
            "Episode  293  Traing Error  0.09086338806152344\n",
            "Episode  294  Traing Error  0.43971112060546874\n",
            "Episode  295  Traing Error  0.09027351379394531\n",
            "Episode  296  Traing Error  0.09190263366699218\n",
            "Episode  297  Traing Error  0.09071597290039063\n",
            "Episode  298  Traing Error  0.08913430786132813\n",
            "Episode  299  Traing Error  0.08972553253173828\n",
            "Episode  300  Traing Error  0.3822055358886719\n",
            "Episode  301  Traing Error  0.37159750366210936\n",
            "Episode  302  Traing Error  0.09408007049560548\n",
            "Episode  303  Traing Error  0.3629153747558594\n",
            "Episode  304  Traing Error  0.36731231689453125\n",
            "Episode  305  Traing Error  0.363079345703125\n",
            "Episode  306  Traing Error  0.3571036376953125\n",
            "Episode  307  Traing Error  0.356767822265625\n",
            "Episode  308  Traing Error  0.3569233093261719\n",
            "Episode  309  Traing Error  0.3526022033691406\n",
            "Episode  310  Traing Error  0.348692626953125\n",
            "Episode  311  Traing Error  0.08961557006835938\n",
            "Episode  312  Traing Error  0.3532762756347656\n",
            "Episode  313  Traing Error  0.34635549926757814\n",
            "Episode  314  Traing Error  0.33984478759765624\n",
            "Episode  315  Traing Error  0.09093907165527344\n",
            "Episode  316  Traing Error  0.0911965560913086\n",
            "Episode  317  Traing Error  0.09106831359863281\n",
            "Episode  318  Traing Error  0.09067453002929687\n",
            "Episode  319  Traing Error  0.387203125\n",
            "Episode  320  Traing Error  0.08973936462402343\n",
            "Episode  321  Traing Error  0.34838616943359374\n",
            "Episode  322  Traing Error  0.3375227966308594\n",
            "Episode  323  Traing Error  0.0910863037109375\n",
            "Episode  324  Traing Error  0.0905384292602539\n",
            "Episode  325  Traing Error  0.08947679138183594\n",
            "Episode  326  Traing Error  0.08947456359863282\n",
            "Episode  327  Traing Error  0.479346923828125\n",
            "Episode  328  Traing Error  0.092812255859375\n",
            "Episode  329  Traing Error  0.33711328125\n",
            "Episode  330  Traing Error  0.094083740234375\n",
            "Episode  331  Traing Error  0.3744232177734375\n",
            "Episode  332  Traing Error  0.09012143707275391\n",
            "Episode  333  Traing Error  0.38797491455078126\n",
            "Episode  334  Traing Error  0.37098492431640623\n",
            "Episode  335  Traing Error  0.10148128509521484\n",
            "Episode  336  Traing Error  0.099215087890625\n",
            "Episode  337  Traing Error  0.09145173645019532\n",
            "Episode  338  Traing Error  0.3711707153320313\n",
            "Episode  339  Traing Error  0.09800772094726562\n",
            "Episode  340  Traing Error  0.34353900146484373\n",
            "Episode  341  Traing Error  0.3313126220703125\n",
            "Episode  342  Traing Error  0.10873860168457031\n",
            "Episode  343  Traing Error  0.3439004821777344\n",
            "Episode  344  Traing Error  0.09674888610839844\n",
            "Episode  345  Traing Error  0.3478522644042969\n",
            "Episode  346  Traing Error  0.3398433227539063\n",
            "Episode  347  Traing Error  0.10022513580322266\n",
            "Episode  348  Traing Error  0.32607278442382814\n",
            "Episode  349  Traing Error  0.32348883056640626\n",
            "Episode  350  Traing Error  0.10630293273925781\n",
            "Episode  351  Traing Error  0.3244700622558594\n",
            "Episode  352  Traing Error  0.0933219757080078\n",
            "Episode  353  Traing Error  0.08909595489501954\n",
            "Episode  354  Traing Error  0.09016276550292969\n",
            "Episode  355  Traing Error  0.3313447265625\n",
            "Episode  356  Traing Error  0.0976415786743164\n",
            "Episode  357  Traing Error  0.31839208984375\n",
            "Episode  358  Traing Error  0.09586628723144532\n",
            "Episode  359  Traing Error  0.09114436340332031\n",
            "Episode  360  Traing Error  0.32051739501953125\n",
            "Episode  361  Traing Error  0.3165657653808594\n",
            "Episode  362  Traing Error  0.09412996673583984\n",
            "Episode  363  Traing Error  0.09662777709960937\n",
            "Episode  364  Traing Error  0.09308184814453126\n",
            "Episode  365  Traing Error  0.32638311767578126\n",
            "Episode  366  Traing Error  0.08689991760253907\n",
            "Episode  367  Traing Error  0.088632568359375\n",
            "Episode  368  Traing Error  0.09026655578613281\n",
            "Episode  369  Traing Error  0.3094472961425781\n",
            "Episode  370  Traing Error  0.08942041015625\n",
            "Episode  371  Traing Error  0.08770199584960937\n",
            "Episode  372  Traing Error  0.30997207641601565\n",
            "Episode  373  Traing Error  0.3076751098632812\n",
            "Episode  374  Traing Error  0.30583843994140625\n",
            "Episode  375  Traing Error  0.09251915740966797\n",
            "Episode  376  Traing Error  0.308583251953125\n",
            "Episode  377  Traing Error  0.30653143310546876\n",
            "Episode  378  Traing Error  0.30325128173828125\n",
            "Episode  379  Traing Error  0.30351373291015626\n",
            "Episode  380  Traing Error  0.3037552490234375\n",
            "Episode  381  Traing Error  0.09229922485351562\n",
            "Episode  382  Traing Error  0.29984451293945313\n",
            "Episode  383  Traing Error  0.2988277893066406\n",
            "Episode  384  Traing Error  0.08810784149169922\n",
            "Episode  385  Traing Error  0.08796465301513672\n",
            "Episode  386  Traing Error  0.30014303588867186\n",
            "Episode  387  Traing Error  0.2968346252441406\n",
            "Episode  388  Traing Error  0.29494772338867187\n",
            "Episode  389  Traing Error  0.09167927551269531\n",
            "Episode  390  Traing Error  0.09089241790771484\n",
            "Episode  391  Traing Error  0.08910476684570312\n",
            "Episode  392  Traing Error  0.08806169128417969\n",
            "Episode  393  Traing Error  0.31327728271484373\n",
            "Episode  394  Traing Error  0.296041748046875\n",
            "Episode  395  Traing Error  0.09333200073242187\n",
            "Episode  396  Traing Error  0.09287860107421875\n",
            "Episode  397  Traing Error  0.3444701232910156\n",
            "Episode  398  Traing Error  0.08773414611816406\n",
            "Episode  399  Traing Error  0.3098508605957031\n",
            "Episode  400  Traing Error  0.08841693115234375\n",
            "Episode  401  Traing Error  0.2950330810546875\n",
            "Episode  402  Traing Error  0.0898187484741211\n",
            "Episode  403  Traing Error  0.3084924011230469\n",
            "Episode  404  Traing Error  0.30380648803710936\n",
            "Episode  405  Traing Error  0.08753536987304687\n",
            "Episode  406  Traing Error  0.08686614990234375\n",
            "Episode  407  Traing Error  0.08674488830566406\n",
            "Episode  408  Traing Error  0.29843023681640624\n",
            "Episode  409  Traing Error  0.08722117614746094\n",
            "Episode  410  Traing Error  0.29951690673828124\n",
            "Episode  411  Traing Error  0.08703231811523438\n",
            "Episode  412  Traing Error  0.08662142944335938\n",
            "Episode  413  Traing Error  0.288745849609375\n",
            "Episode  414  Traing Error  0.08628910064697265\n",
            "Episode  415  Traing Error  0.08640016174316406\n",
            "Episode  416  Traing Error  0.29096026611328124\n",
            "Episode  417  Traing Error  0.08637030029296874\n",
            "Episode  418  Traing Error  0.0862423324584961\n",
            "Episode  419  Traing Error  0.08615818786621093\n",
            "Episode  420  Traing Error  0.2888865966796875\n",
            "Episode  421  Traing Error  0.08617412567138671\n",
            "Episode  422  Traing Error  0.08617427825927734\n",
            "Episode  423  Traing Error  0.283529296875\n",
            "Episode  424  Traing Error  0.08600074005126954\n",
            "Episode  425  Traing Error  0.08595362091064453\n",
            "Episode  426  Traing Error  0.28440362548828124\n",
            "Episode  427  Traing Error  0.08578754425048828\n",
            "Episode  428  Traing Error  0.282589111328125\n",
            "Episode  429  Traing Error  0.28084640502929686\n",
            "Episode  430  Traing Error  0.2800738525390625\n",
            "Episode  431  Traing Error  0.28003033447265624\n",
            "Episode  432  Traing Error  0.2794287414550781\n",
            "Episode  433  Traing Error  0.2778114013671875\n",
            "Episode  434  Traing Error  0.08661871337890625\n",
            "Episode  435  Traing Error  0.2760716857910156\n",
            "Episode  436  Traing Error  0.08683538055419922\n",
            "Episode  437  Traing Error  0.08683075714111328\n",
            "Episode  438  Traing Error  0.2756640625\n",
            "Episode  439  Traing Error  0.08673843383789062\n",
            "Episode  440  Traing Error  0.08661387634277344\n",
            "Episode  441  Traing Error  0.08655967712402343\n",
            "Episode  442  Traing Error  0.08633935546875\n",
            "Episode  443  Traing Error  0.08622418212890624\n",
            "Episode  444  Traing Error  0.08604751586914063\n",
            "Episode  445  Traing Error  0.08585552978515625\n",
            "Episode  446  Traing Error  0.08562849426269531\n",
            "Episode  447  Traing Error  0.2772852783203125\n",
            "Episode  448  Traing Error  0.27285137939453125\n",
            "Episode  449  Traing Error  0.08557774353027343\n",
            "Episode  450  Traing Error  0.08564848327636719\n",
            "Episode  451  Traing Error  0.28193408203125\n",
            "Episode  452  Traing Error  0.2783505859375\n",
            "Episode  453  Traing Error  0.270759521484375\n",
            "Episode  454  Traing Error  0.270258056640625\n",
            "Episode  455  Traing Error  0.2746205139160156\n",
            "Episode  456  Traing Error  0.08583740234375\n",
            "Episode  457  Traing Error  0.08593038940429687\n",
            "Episode  458  Traing Error  0.08574693298339844\n",
            "Episode  459  Traing Error  0.0855349349975586\n",
            "Episode  460  Traing Error  0.2736702880859375\n",
            "Episode  461  Traing Error  0.26829425048828126\n",
            "Episode  462  Traing Error  0.0857505111694336\n",
            "Episode  463  Traing Error  0.26760049438476563\n",
            "Episode  464  Traing Error  0.08623689270019531\n",
            "Episode  465  Traing Error  0.08628076934814453\n",
            "Episode  466  Traing Error  0.08609373474121093\n",
            "Episode  467  Traing Error  0.2765953369140625\n",
            "Episode  468  Traing Error  0.2691047668457031\n",
            "Episode  469  Traing Error  0.08575083923339843\n",
            "Episode  470  Traing Error  0.2641871337890625\n",
            "Episode  471  Traing Error  0.26790625\n",
            "Episode  472  Traing Error  0.08677040100097656\n",
            "Episode  473  Traing Error  0.2658955078125\n",
            "Episode  474  Traing Error  0.2619049072265625\n",
            "Episode  475  Traing Error  0.25950271606445313\n",
            "Episode  476  Traing Error  0.2606277770996094\n",
            "Episode  477  Traing Error  0.08700541687011719\n",
            "Episode  478  Traing Error  0.08701127624511719\n",
            "Episode  479  Traing Error  0.08672593688964844\n",
            "Episode  480  Traing Error  0.26753164672851565\n",
            "Episode  481  Traing Error  0.26137872314453126\n",
            "Episode  482  Traing Error  0.2556029968261719\n",
            "Episode  483  Traing Error  0.257038330078125\n",
            "Episode  484  Traing Error  0.08710685729980469\n",
            "Episode  485  Traing Error  0.08702558898925782\n",
            "Episode  486  Traing Error  0.27197344970703125\n",
            "Episode  487  Traing Error  0.08663746643066406\n",
            "Episode  488  Traing Error  0.2578726806640625\n",
            "Episode  489  Traing Error  0.08693513488769532\n",
            "Episode  490  Traing Error  0.25222604370117185\n",
            "Episode  491  Traing Error  0.2549299621582031\n",
            "Episode  492  Traing Error  0.08771000671386718\n",
            "Episode  493  Traing Error  0.0873237075805664\n",
            "Episode  494  Traing Error  0.08664109802246094\n",
            "Episode  495  Traing Error  0.08623123168945312\n",
            "Episode  496  Traing Error  0.08634365844726563\n",
            "Episode  497  Traing Error  0.08653121948242187\n",
            "Episode  498  Traing Error  0.25163558959960936\n",
            "Episode  499  Traing Error  0.24895941162109375\n"
          ]
        }
      ],
      "source": [
        "optimizer = Adam(model.parameters(), lr=0.0005, weight_decay=0.001,amsgrad = False)\n",
        "scheduler = torch.optim.lr_scheduler.StepLR(optimizer, step_size=50, gamma=0.8)\n",
        "myloss = LpLoss(size_average=False) #it calculates the error rate\n",
        "model.train()\n",
        "for ep in range(500): #training from 100 epocs\n",
        "    train_l2 = 0\n",
        "    ntrain = 0\n",
        "    for x, y in train_loader:\n",
        "        batch_size = x.shape[0]\n",
        "        \n",
        "        x_in = x + 0.1* torch.randn_like(x)\n",
        "        x  = x.cuda()\n",
        "        y = y.cuda()\n",
        "        x_in = x_in.cuda()\n",
        "        optimizer.zero_grad()\n",
        "        out = model(x_in).reshape(batch_size, 64, 64,1)\n",
        "        loss = myloss(out.reshape(batch_size,-1), y.reshape(batch_size,-1))\n",
        "        loss.backward()\n",
        "        ntrain+=batch_size\n",
        "        optimizer.step()\n",
        "        train_l2 += loss.item()\n",
        "        del x,y,out,loss,x_in\n",
        "        gc.collect()\n",
        "    scheduler.step()\n",
        "    train_l2/=ntrain\n",
        "    print(\"Episode \",ep,\" Traing Error \", train_l2)"
      ]
    },
    {
      "cell_type": "markdown",
      "source": [
        "#### Visualizing the model output"
      ],
      "metadata": {
        "id": "XwlvU-6yLJoK"
      }
    },
    {
      "cell_type": "code",
      "execution_count": null,
      "metadata": {
        "id": "JhCvP8Uj8R_o",
        "colab": {
          "base_uri": "https://localhost:8080/",
          "height": 554
        },
        "outputId": "9affff6e-a787-42fe-fdde-5af2ba6df6a0"
      },
      "outputs": [
        {
          "output_type": "stream",
          "name": "stdout",
          "text": [
            "Model Output\n"
          ]
        },
        {
          "output_type": "display_data",
          "data": {
            "text/plain": [
              "<Figure size 432x288 with 1 Axes>"
            ],
            "image/png": "[encoded data removed]"
          },
          "metadata": {
            "needs_background": "light"
          }
        },
        {
          "output_type": "stream",
          "name": "stdout",
          "text": [
            "Ground Truth\n"
          ]
        },
        {
          "output_type": "display_data",
          "data": {
            "text/plain": [
              "<Figure size 432x288 with 1 Axes>"
            ],
            "image/png": "[encoded data removed]"
          },
          "metadata": {
            "needs_background": "light"
          }
        }
      ],
      "source": [
        "with torch.no_grad():\n",
        "  sample_output = model(a[0][None,...].cuda())\n",
        "  print(\"Model Output\")\n",
        "  plt.imshow(sample_output.cpu().squeeze().numpy())\n",
        "  plt.show()\n",
        "  print(\"Ground Truth\")\n",
        "  plt.imshow(u[0].squeeze().numpy())\n",
        "  plt.show()"
      ]
    },
    {
      "cell_type": "code",
      "source": [
        ""
      ],
      "metadata": {
        "id": "NS2OFtkjKvT0"
      },
      "execution_count": null,
      "outputs": []
    }
  ],
  "metadata": {
    "accelerator": "GPU",
    "colab": {
      "collapsed_sections": [
        "5sLspEnB73-I",
        "YmX7VzmwsNl4"
      ],
      "name": "UNO_Tutorial.ipynb",
      "provenance": [],
      "include_colab_link": true
    },
    "kernelspec": {
      "display_name": "Python 3",
      "name": "python3"
    },
    "language_info": {
      "name": "python"
    }
  },
  "nbformat": 4,
  "nbformat_minor": 0
}